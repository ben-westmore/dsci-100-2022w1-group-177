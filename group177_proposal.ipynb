{
 "cells": [
  {
   "cell_type": "markdown",
   "id": "be7afad9-d879-464e-a4e3-c1df76d5527c",
   "metadata": {},
   "source": [
    "# DSCI 100 Group 177 - Group Project Proposal"
   ]
  },
  {
   "cell_type": "markdown",
   "id": "f3c2b1d8-03fb-457d-92ac-7a4a3442d9da",
   "metadata": {},
   "source": [
    "### Title:\n",
    "\n",
    "[placeholder]"
   ]
  },
  {
   "cell_type": "markdown",
   "id": "e688bbe6-5ae4-49d5-b73b-4b09741a27ca",
   "metadata": {},
   "source": [
    "### Introduction:\n",
    "\n",
    "[placeholder]"
   ]
  },
  {
   "cell_type": "markdown",
   "id": "f6418d50-e7b8-4d6a-a367-ff3e7a7c85e6",
   "metadata": {},
   "source": [
    "### Preliminary exploratory data analysis:\n",
    "\n",
    "[placeholder]"
   ]
  },
  {
   "cell_type": "markdown",
   "id": "cab007e6-f0fa-49fb-9220-12e16fec6369",
   "metadata": {},
   "source": [
    "### Methods:\n",
    "\n",
    "[placeholder]"
   ]
  },
  {
   "cell_type": "markdown",
   "id": "83a646e9-70c3-4271-b62d-50282c300599",
   "metadata": {},
   "source": [
    "### Expected outcome and significance:\n",
    "\n",
    "[placeholder]"
   ]
  },
  {
   "cell_type": "code",
   "execution_count": null,
   "id": "5be5012e-2a9e-46f8-9336-fda80a48d8bd",
   "metadata": {},
   "outputs": [],
   "source": []
  }
 ],
 "metadata": {
  "kernelspec": {
   "display_name": "R",
   "language": "R",
   "name": "ir"
  },
  "language_info": {
   "codemirror_mode": "r",
   "file_extension": ".r",
   "mimetype": "text/x-r-source",
   "name": "R",
   "pygments_lexer": "r",
   "version": "4.1.3"
  }
 },
 "nbformat": 4,
 "nbformat_minor": 5
}
