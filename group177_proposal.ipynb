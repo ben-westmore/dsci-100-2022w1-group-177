{
 "cells": [
  {
   "cell_type": "markdown",
   "id": "be7afad9-d879-464e-a4e3-c1df76d5527c",
   "metadata": {},
   "source": [
    "# DSCI 100 Group 177 - Group Project Proposal"
   ]
  },
  {
   "cell_type": "markdown",
   "id": "f3c2b1d8-03fb-457d-92ac-7a4a3442d9da",
   "metadata": {},
   "source": [
    "### Title: Predicting the round of a tennis tournament in which a match takes place based on the match participants' ATP rankings and ranking points"
   ]
  },
  {
   "cell_type": "code",
   "execution_count": null,
   "id": "a6a5a1dd-f8ad-4cae-8bf1-7820d4fe117c",
   "metadata": {},
   "outputs": [],
   "source": [
    "# Please run this cell before continuing, installing packages if necessary.\n",
    "library(tidyverse)\n",
    "library(RColorBrewer)\n",
    "library(tidymodels)\n",
    "set.seed(2019)\n",
    "options(repr.plot.width = 14, repr.plot.height = 8)"
   ]
  },
  {
   "cell_type": "markdown",
   "id": "e688bbe6-5ae4-49d5-b73b-4b09741a27ca",
   "metadata": {},
   "source": [
    "### Introduction:\n",
    "\n",
    "**Background:** The Association of Tennis Professionals (ATP) holds many single-elimination tournaments annually, and uses a merit-based method to rank all professional men’s tennis players based on their performances in ATP-sanctioned tournaments over the previous 12 months. The farther a player progresses in a tournament, the more points they will gain in the rankings. Therefore, each player has both a ranking and a number of points which determines their ranking relative to others. In each ATP tournament, a draw (or bracket) is set up which ensures that highly-ranked players are not likely to meet each other too early in the tournament, making it more likely that the later rounds will include highly-ranked players playing one another.\n",
    "\n",
    "**Our question:** We would like to attempt to predict the round of a tennis tournament (final, semi-final, quarter-final, round of 16, etc.) in which a match occurs using predictor variables such as the ranks of the winner and loser, as well as their points in the ATP rankings.\n",
    "\n",
    "**Our dataset:** Our dataset contains all of the match results for matches involving the top 500-ranked players from the years 2017-2019, with each row/observation corresponding to one match. The data for each match includes the competitors’ identities, rankings, ranking points, the round of the tournament in which the match occurred, and other metrics concerning the performance of the players in the match. We will only be using data from the year 2019, and for matches that are part of a single-elimination tournament (no round-robin matches)."
   ]
  },
  {
   "cell_type": "markdown",
   "id": "f6418d50-e7b8-4d6a-a367-ff3e7a7c85e6",
   "metadata": {},
   "source": [
    "### Preliminary exploratory data analysis:"
   ]
  },
  {
   "cell_type": "code",
   "execution_count": null,
   "id": "9fd0b3a1-1814-4095-a39c-2724da7a54ce",
   "metadata": {},
   "outputs": [],
   "source": [
    "tennis_data <- read_csv(\"https://raw.githubusercontent.com/ben-westmore/dsci-100-2022w1-group-177/main/atp2017-2019.csv\") |>\n",
    "    mutate(round = as_factor(round),\n",
    "           tourney_year = as.double(substr(tourney_date, 1, 4)),\n",
    "           tourney_month = as.double(substr(tourney_date, 5, 6)),\n",
    "           tourney_day = as.double(substr(tourney_date, 7, 8))) |>\n",
    "    filter(round != 'BR',\n",
    "           round != 'RR',\n",
    "           tourney_year == 2019) |>\n",
    "    select(-1, -tourney_date)\n",
    "\n",
    "tennis_data <- tennis_data[, c(1:5, 49:51, 6:48)]    \n",
    "\n",
    "tennis_data$round <- factor(tennis_data$round, levels = c(\"F\", \"SF\", \"QF\", \"R16\", \"R32\", \"R64\", \"R128\"))\n",
    "\n",
    "head(tennis_data)\n",
    "# glimpse(tennis_data)\n",
    "levels(tennis_data$round)"
   ]
  },
  {
   "cell_type": "code",
   "execution_count": null,
   "id": "9fe9c9eb-5708-45f8-934c-9954b6e82735",
   "metadata": {},
   "outputs": [],
   "source": [
    "tennis_split <- initial_split(tennis_data, prop = 0.75, strata = round)\n",
    "tennis_train <- training(tennis_split)\n",
    "tennis_test <- testing(tennis_split)\n",
    "\n",
    "matches_by_round <- tennis_train |>\n",
    "    group_by(round) |>\n",
    "    summarize(number_of_matches = n(),\n",
    "              percentage_of_matches = (round((n()/nrow(tennis_train)) * 100, 2)))\n",
    "\n",
    "matches_by_round\n",
    "\n",
    "matches_by_round_plot <- ggplot(matches_by_round, aes(x = round, y = number_of_matches, fill = round)) +\n",
    "    geom_bar(stat = \"identity\") +\n",
    "    labs(title = \"Number of Matches by\\nTournament Round (2019)\",\n",
    "         x = \"Round of Tournament\",\n",
    "         y = \"Number of Matches\",\n",
    "         fill = \"Round of Tournament\") +\n",
    "    scale_fill_brewer(palette = \"RdYlBu\") +\n",
    "    theme(text = element_text(size = 20),\n",
    "          plot.title = element_text(hjust = 0.5))\n",
    "\n",
    "matches_by_round_plot\n",
    "\n",
    "rankings_vs_round_plot <- ggplot(tennis_train, aes(x = winner_rank, y = loser_rank, colour = round)) +\n",
    "    geom_point() +\n",
    "    labs(title = \"Match Competitor Rankings by\\nTournament Round (2019)\",\n",
    "         x = \"Winner's ATP Ranking\",\n",
    "         y = \"Loser's ATP Ranking\",\n",
    "         colour = \"Round of Tournament\") +\n",
    "    lims(x = c(1, 200), y = c(1, 200)) +\n",
    "    theme(text = element_text(size = 20),\n",
    "          plot.title = element_text(hjust = 0.5)) +\n",
    "    scale_color_brewer(palette = \"RdYlBu\")\n",
    "\n",
    "rankings_vs_round_plot"
   ]
  },
  {
   "cell_type": "markdown",
   "id": "cab007e6-f0fa-49fb-9220-12e16fec6369",
   "metadata": {},
   "source": [
    "### Methods:\n",
    "\n",
    "We will conduct our data analysis from a classification standpoint, using cross-validation to evaluate optimal model specifications and forward selection to evaluate the accuracy when using several different subsets of predictors to determine which variables we will use to predict the tournament round apart from player rankings and ranking points.\n",
    "\n",
    "**Potential visualizations:** One way in which we may visualize our results would be a plot of the ratio of ranking points between the two players (winner ranking points/loser ranking points) to the round of the match, assuming that the greater the discrepancy between the players, the earlier in a tournament the match would be. Another possible visualization could be the winner’s rank plotted against the loser’s rank, coloured by the round of the match, with more advanced matches likely to be located near the origin of the plot."
   ]
  },
  {
   "cell_type": "markdown",
   "id": "83a646e9-70c3-4271-b62d-50282c300599",
   "metadata": {},
   "source": [
    "### Expected outcome and significance:\n",
    "\n",
    "**Expected findings:** We expect to find that if both of the players in a match are highly ranked and/or have a large number of points in the ATP rankings, the match will be occurring in a later round (e.g. final or semifinal). Additionally, we predict that the bigger the discrepancy between the players’ points/rankings, the earlier in the tournament the match will be due to the nature of how the tournament draws are formed.\n",
    "\n",
    "**Potential impact:** We are hoping that the insights gained from this project will help people build some intuition regarding how tennis tournaments are set up, and give them the ability to make an educated guess about the stage of a tournament they are likely to be watching based on the quality of the two players involved.\n",
    "\n",
    "**Potential future questions:**\n",
    "- Is there any way we could go a step further and predict the winner of a tournament based on the tournament draw and previous results? If not, what unconsidered factors might influence the results?\n",
    "- Once we determine what the best predictor variables are for our question, will we be able to use them to predict other facts about a tournament?"
   ]
  }
 ],
 "metadata": {
  "kernelspec": {
   "display_name": "R",
   "language": "R",
   "name": "ir"
  },
  "language_info": {
   "codemirror_mode": "r",
   "file_extension": ".r",
   "mimetype": "text/x-r-source",
   "name": "R",
   "pygments_lexer": "r",
   "version": "4.1.3"
  }
 },
 "nbformat": 4,
 "nbformat_minor": 5
}
