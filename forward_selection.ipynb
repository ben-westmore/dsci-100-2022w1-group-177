{
 "cells": [
  {
   "cell_type": "code",
   "execution_count": null,
   "id": "37579530-18ed-4b40-9ee7-349ba33d79c0",
   "metadata": {},
   "outputs": [],
   "source": [
    "set.seed(2019)\n",
    "\n",
    "# PERFORMING FORWARD SELECTION TO FIND BEST PREDICTOR VARIABLES\n",
    "\n",
    "potential_predictors <- colnames(upsampled_tennis_train |>\n",
    "                                     select(-round))\n",
    "\n",
    "cv_accuracies <- tibble(num_predictors = integer(),\n",
    "                        model_string = character(),\n",
    "                        accuracy = numeric())\n",
    "\n",
    "tennis_fs_spec <- nearest_neighbor(weight_func = \"rectangular\", neighbors = tune()) |>\n",
    "    set_engine(\"kknn\") |>\n",
    "    set_mode(\"classification\")\n",
    "\n",
    "tennis_vfold <- vfold_cv(upsampled_tennis_train, v = 5, strata = round)\n",
    "\n",
    "n_potential_preds <- length(potential_predictors)\n",
    "\n",
    "selected_preds <- c()\n",
    "\n",
    "for (i in 1:n_potential_preds) {\n",
    "    accs <- list()\n",
    "    models <- list()\n",
    "    for (j in 1:length(potential_predictors)) {\n",
    "        preds_new <- c(selected_preds, potential_predictors[[j]])\n",
    "        model_string <- paste(\"round\", \"~\", paste(preds_new, collapse = \"+\"))\n",
    "\n",
    "        tennis_recipe <- recipe(as.formula(model_string), \n",
    "                                data = upsampled_tennis_train) |>\n",
    "                          step_scale(all_predictors()) |>\n",
    "                          step_center(all_predictors())\n",
    "\n",
    "        acc <- workflow() |>\n",
    "          add_recipe(tennis_recipe) |>\n",
    "          add_model(tennis_fs_spec) |>\n",
    "          tune_grid(resamples = tennis_vfold, grid = 10) |>\n",
    "          collect_metrics() |>\n",
    "          filter(.metric == \"accuracy\") |>\n",
    "          summarize(mx = max(mean))\n",
    "        acc <- acc$mx |> unlist()\n",
    "\n",
    "        accs[[j]] <- acc\n",
    "        models[[j]] <- model_string\n",
    "    }\n",
    "    jstar <- which.max(unlist(accs))\n",
    "    cv_accuracies <- cv_accuracies |> \n",
    "      add_row(num_predictors = i, \n",
    "              model_string = models[[jstar]], \n",
    "              accuracy = accs[[jstar]])\n",
    "    selected_preds <- c(selected_preds, potential_predictors[[jstar]])\n",
    "    potential_predictors <- potential_predictors[-jstar]\n",
    "}\n",
    "cv_accuracies\n",
    "\n",
    "# shows no significant increase in accuracy for any predictors other than w_over_l_point_ratio"
   ]
  },
  {
   "cell_type": "code",
   "execution_count": 1,
   "id": "903ee87c-4e22-41d9-9896-a7afa66bb2b6",
   "metadata": {},
   "outputs": [
    {
     "ename": "ERROR",
     "evalue": "Error in write_csv(cv_accuracies, \"forward_selection.csv\"): could not find function \"write_csv\"\n",
     "output_type": "error",
     "traceback": [
      "Error in write_csv(cv_accuracies, \"forward_selection.csv\"): could not find function \"write_csv\"\nTraceback:\n"
     ]
    }
   ],
   "source": [
    "write_csv(cv_accuracies, \"forward_selection.csv\")"
   ]
  },
  {
   "cell_type": "code",
   "execution_count": null,
   "id": "8415c8b6-0d9a-47c1-b2a9-c4d69653cf0a",
   "metadata": {},
   "outputs": [],
   "source": []
  }
 ],
 "metadata": {
  "kernelspec": {
   "display_name": "R",
   "language": "R",
   "name": "ir"
  },
  "language_info": {
   "codemirror_mode": "r",
   "file_extension": ".r",
   "mimetype": "text/x-r-source",
   "name": "R",
   "pygments_lexer": "r",
   "version": "4.1.3"
  }
 },
 "nbformat": 4,
 "nbformat_minor": 5
}
